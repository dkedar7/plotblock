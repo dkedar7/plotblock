{
 "cells": [
  {
   "cell_type": "code",
   "execution_count": 1,
   "id": "black-nickel",
   "metadata": {},
   "outputs": [],
   "source": [
    "from pylatex import (Document, TikZ, TikZNode,\n",
    "                     TikZDraw, TikZCoordinate,\n",
    "                     TikZUserPath, TikZOptions)"
   ]
  },
  {
   "cell_type": "code",
   "execution_count": 29,
   "id": "mediterranean-actor",
   "metadata": {},
   "outputs": [],
   "source": [
    "# create document\n",
    "doc = Document()\n",
    "\n",
    "# add our sample drawings\n",
    "with doc.create(TikZ()) as pic:\n",
    "\n",
    "    # options for our node\n",
    "    node_kwargs = {'align': 'center',\n",
    "                   'minimum height': '3em',\n",
    "                  'minimum width':'1em'}\n",
    "\n",
    "    # 1. Create block\n",
    "    block = TikZNode(text='My block',\n",
    "                   handle='block',\n",
    "                   options=TikZOptions('draw',\n",
    "                                       **node_kwargs))\n",
    "\n",
    "    pic.append(block)\n",
    "    \n",
    "    # 2. Create circle\n",
    "    node_kwargs = {'align': 'center',\n",
    "                   'minimum width': '3em',\n",
    "                  'right of': 'block',\n",
    "                  'node distance': '3cm'}\n",
    "    \n",
    "    circle = TikZNode(handle='circle',\n",
    "                   options=TikZOptions('draw','circle',\n",
    "                                       **node_kwargs))\n",
    "    \n",
    "    pic.append(circle)\n",
    "    \n",
    "    # Connext block and circle\n",
    "    node_args = {'right of': 'block',\n",
    "                  'node distance': '3cm'}\n",
    "    connect = TikZDraw([block, '--' ,circle], TikZOptions('-latex'))\n",
    "    pic.append(connect)\n",
    "\n",
    "doc.generate_pdf('tikzdraw', clean_tex=False)"
   ]
  },
  {
   "cell_type": "code",
   "execution_count": null,
   "id": "talented-annex",
   "metadata": {},
   "outputs": [],
   "source": []
  }
 ],
 "metadata": {
  "kernelspec": {
   "display_name": "Python 3",
   "language": "python",
   "name": "python3"
  },
  "language_info": {
   "codemirror_mode": {
    "name": "ipython",
    "version": 3
   },
   "file_extension": ".py",
   "mimetype": "text/x-python",
   "name": "python",
   "nbconvert_exporter": "python",
   "pygments_lexer": "ipython3",
   "version": "3.7.9"
  }
 },
 "nbformat": 4,
 "nbformat_minor": 5
}
